{
 "cells": [
  {
   "cell_type": "code",
   "id": "f8c5bff4d8d6428",
   "metadata": {
    "collapsed": true,
    "ExecuteTime": {
     "end_time": "2025-04-09T15:08:39.822917Z",
     "start_time": "2025-04-09T15:08:27.796703Z"
    }
   },
   "source": [
    "from sklearn.metrics import classification_report, accuracy_score\n",
    "from datasets import load_dataset\n",
    "from transformers import AutoTokenizer, AutoModelForSequenceClassification, TrainingArguments, Trainer\n",
    "import numpy as np\n",
    "import torch\n"
   ],
   "outputs": [
    {
     "name": "stdout",
     "output_type": "stream",
     "text": [
      "WARNING:tensorflow:From D:\\Workspace\\rb\\sample-tracker-api\\venv\\Lib\\site-packages\\tf_keras\\src\\losses.py:2976: The name tf.losses.sparse_softmax_cross_entropy is deprecated. Please use tf.compat.v1.losses.sparse_softmax_cross_entropy instead.\n",
      "\n"
     ]
    }
   ],
   "execution_count": 1
  },
  {
   "metadata": {
    "ExecuteTime": {
     "end_time": "2025-04-09T15:08:54.957142Z",
     "start_time": "2025-04-09T15:08:39.823922Z"
    }
   },
   "cell_type": "code",
   "source": [
    "# Load dataset (IMDB for example)\n",
    "dataset = load_dataset(\"imdb\")\n"
   ],
   "id": "28e8ed7fba986ed4",
   "outputs": [],
   "execution_count": 2
  },
  {
   "metadata": {
    "ExecuteTime": {
     "end_time": "2025-04-09T15:08:54.969454Z",
     "start_time": "2025-04-09T15:08:54.958148Z"
    }
   },
   "cell_type": "code",
   "source": [
    "# Use a small subset for training/testing to save time\n",
    "train_dataset = dataset[\"train\"].shuffle(seed=42).select(range(2000))\n",
    "test_dataset = dataset[\"test\"].shuffle(seed=42).select(range(1000))\n"
   ],
   "id": "e4c916c221092aeb",
   "outputs": [],
   "execution_count": 3
  },
  {
   "metadata": {
    "ExecuteTime": {
     "end_time": "2025-04-09T15:08:55.774675Z",
     "start_time": "2025-04-09T15:08:54.970459Z"
    }
   },
   "cell_type": "code",
   "source": [
    "# Load tokenizer and tokenize the dataset\n",
    "model_checkpoint = \"distilbert-base-uncased\"\n",
    "tokenizer = AutoTokenizer.from_pretrained(model_checkpoint)\n",
    "\n",
    "def tokenize_function(example):\n",
    "    return tokenizer(example[\"text\"], padding=\"max_length\", truncation=True)\n",
    "\n",
    "tokenized_train = train_dataset.map(tokenize_function, batched=True)\n",
    "tokenized_test = test_dataset.map(tokenize_function, batched=True)\n"
   ],
   "id": "d64c7824ee9ad45e",
   "outputs": [
    {
     "data": {
      "text/plain": [
       "Map:   0%|          | 0/1000 [00:00<?, ? examples/s]"
      ],
      "application/vnd.jupyter.widget-view+json": {
       "version_major": 2,
       "version_minor": 0,
       "model_id": "c34c5cbef2e94cb1bb0585fa27083023"
      }
     },
     "metadata": {},
     "output_type": "display_data"
    }
   ],
   "execution_count": 4
  },
  {
   "metadata": {
    "ExecuteTime": {
     "end_time": "2025-04-09T15:08:55.783272Z",
     "start_time": "2025-04-09T15:08:55.777700Z"
    }
   },
   "cell_type": "code",
   "source": [
    "# Set format for PyTorch\n",
    "tokenized_train.set_format(\"torch\", columns=[\"input_ids\", \"attention_mask\", \"label\"])\n",
    "tokenized_test.set_format(\"torch\", columns=[\"input_ids\", \"attention_mask\", \"label\"])\n"
   ],
   "id": "b2258dc07fc83b7e",
   "outputs": [],
   "execution_count": 5
  },
  {
   "metadata": {
    "ExecuteTime": {
     "end_time": "2025-04-09T15:08:56.178800Z",
     "start_time": "2025-04-09T15:08:55.785294Z"
    }
   },
   "cell_type": "code",
   "source": [
    "# Load model\n",
    "model = AutoModelForSequenceClassification.from_pretrained(model_checkpoint, num_labels=2)\n"
   ],
   "id": "70781b18e3c2db2",
   "outputs": [
    {
     "name": "stderr",
     "output_type": "stream",
     "text": [
      "Some weights of DistilBertForSequenceClassification were not initialized from the model checkpoint at distilbert-base-uncased and are newly initialized: ['classifier.bias', 'classifier.weight', 'pre_classifier.bias', 'pre_classifier.weight']\n",
      "You should probably TRAIN this model on a down-stream task to be able to use it for predictions and inference.\n"
     ]
    }
   ],
   "execution_count": 6
  },
  {
   "metadata": {
    "ExecuteTime": {
     "end_time": "2025-04-09T15:08:56.194193Z",
     "start_time": "2025-04-09T15:08:56.179806Z"
    }
   },
   "cell_type": "code",
   "source": [
    "# Define training arguments\n",
    "training_args = TrainingArguments(\n",
    "    output_dir=\"./results\",\n",
    "    evaluation_strategy=\"epoch\",\n",
    "    learning_rate=2e-5,\n",
    "    per_device_train_batch_size=16,\n",
    "    per_device_eval_batch_size=16,\n",
    "    num_train_epochs=2,\n",
    "    weight_decay=0.01,\n",
    "    logging_dir=\"./logs\",\n",
    "    logging_steps=10,\n",
    "    report_to=\"none\"\n",
    ")\n"
   ],
   "id": "367cfbdb2b67d09",
   "outputs": [
    {
     "name": "stderr",
     "output_type": "stream",
     "text": [
      "D:\\Workspace\\rb\\sample-tracker-api\\venv\\Lib\\site-packages\\transformers\\training_args.py:1568: FutureWarning: `evaluation_strategy` is deprecated and will be removed in version 4.46 of 🤗 Transformers. Use `eval_strategy` instead\n",
      "  warnings.warn(\n"
     ]
    }
   ],
   "execution_count": 7
  },
  {
   "metadata": {
    "ExecuteTime": {
     "end_time": "2025-04-09T15:08:56.202507Z",
     "start_time": "2025-04-09T15:08:56.196203Z"
    }
   },
   "cell_type": "code",
   "source": [
    "# Define compute_metrics function\n",
    "def compute_metrics(eval_pred):\n",
    "    logits, labels = eval_pred\n",
    "    predictions = np.argmax(logits, axis=-1)\n",
    "    return {\n",
    "        \"accuracy\": accuracy_score(labels, predictions),\n",
    "        \"report\": classification_report(labels, predictions, output_dict=True)\n",
    "    }\n"
   ],
   "id": "32e33521b5ba5b79",
   "outputs": [],
   "execution_count": 8
  },
  {
   "metadata": {
    "ExecuteTime": {
     "end_time": "2025-04-09T15:08:57.196414Z",
     "start_time": "2025-04-09T15:08:56.204516Z"
    }
   },
   "cell_type": "code",
   "source": [
    "# Create Trainer\n",
    "trainer = Trainer(\n",
    "    model=model,\n",
    "    args=training_args,\n",
    "    train_dataset=tokenized_train,\n",
    "    eval_dataset=tokenized_test,\n",
    "    compute_metrics=compute_metrics,\n",
    ")\n"
   ],
   "id": "7dd0da07ff666d00",
   "outputs": [],
   "execution_count": 9
  },
  {
   "metadata": {
    "ExecuteTime": {
     "end_time": "2025-04-09T16:12:41.794243Z",
     "start_time": "2025-04-09T15:08:57.197419Z"
    }
   },
   "cell_type": "code",
   "source": [
    "# Train the model\n",
    "trainer.train()\n"
   ],
   "id": "8b3a0a4a825dc303",
   "outputs": [
    {
     "data": {
      "text/plain": [
       "<IPython.core.display.HTML object>"
      ],
      "text/html": [
       "\n",
       "    <div>\n",
       "      \n",
       "      <progress value='250' max='250' style='width:300px; height:20px; vertical-align: middle;'></progress>\n",
       "      [250/250 1:03:28, Epoch 2/2]\n",
       "    </div>\n",
       "    <table border=\"1\" class=\"dataframe\">\n",
       "  <thead>\n",
       " <tr style=\"text-align: left;\">\n",
       "      <th>Epoch</th>\n",
       "      <th>Training Loss</th>\n",
       "      <th>Validation Loss</th>\n",
       "      <th>Accuracy</th>\n",
       "      <th>Report</th>\n",
       "    </tr>\n",
       "  </thead>\n",
       "  <tbody>\n",
       "    <tr>\n",
       "      <td>1</td>\n",
       "      <td>0.222900</td>\n",
       "      <td>0.347104</td>\n",
       "      <td>0.849000</td>\n",
       "      <td>{'0': {'precision': 0.941320293398533, 'recall': 0.751953125, 'f1-score': 0.8360477741585234, 'support': 512.0}, '1': {'precision': 0.7851099830795262, 'recall': 0.9508196721311475, 'f1-score': 0.8600556070435589, 'support': 488.0}, 'accuracy': 0.849, 'macro avg': {'precision': 0.8632151382390296, 'recall': 0.8513863985655737, 'f1-score': 0.8480516906010411, 'support': 1000.0}, 'weighted avg': {'precision': 0.8650896619628576, 'recall': 0.849, 'f1-score': 0.8477635966064208, 'support': 1000.0}}</td>\n",
       "    </tr>\n",
       "    <tr>\n",
       "      <td>2</td>\n",
       "      <td>0.238800</td>\n",
       "      <td>0.302303</td>\n",
       "      <td>0.879000</td>\n",
       "      <td>{'0': {'precision': 0.8825831702544031, 'recall': 0.880859375, 'f1-score': 0.8817204301075269, 'support': 512.0}, '1': {'precision': 0.8752556237218814, 'recall': 0.8770491803278688, 'f1-score': 0.8761514841351075, 'support': 488.0}, 'accuracy': 0.879, 'macro avg': {'precision': 0.8789193969881423, 'recall': 0.8789542776639344, 'f1-score': 0.8789359571213171, 'support': 1000.0}, 'weighted avg': {'precision': 0.8790073275465324, 'recall': 0.879, 'f1-score': 0.8790027844729862, 'support': 1000.0}}</td>\n",
       "    </tr>\n",
       "  </tbody>\n",
       "</table><p>"
      ]
     },
     "metadata": {},
     "output_type": "display_data"
    },
    {
     "data": {
      "text/plain": [
       "TrainOutput(global_step=250, training_loss=0.3215472717285156, metrics={'train_runtime': 3824.3859, 'train_samples_per_second': 1.046, 'train_steps_per_second': 0.065, 'total_flos': 529869594624000.0, 'train_loss': 0.3215472717285156, 'epoch': 2.0})"
      ]
     },
     "execution_count": 10,
     "metadata": {},
     "output_type": "execute_result"
    }
   ],
   "execution_count": 10
  },
  {
   "metadata": {
    "ExecuteTime": {
     "end_time": "2025-04-09T16:15:30.605372Z",
     "start_time": "2025-04-09T16:12:41.813250Z"
    }
   },
   "cell_type": "code",
   "source": [
    "# Evaluate the model\n",
    "results = trainer.evaluate()\n",
    "results_summary = {\n",
    "    \"Accuracy\": results[\"eval_accuracy\"],\n",
    "    \"Precision (class 0)\": results[\"eval_report\"][\"0\"][\"precision\"],\n",
    "    \"Recall (class 0)\": results[\"eval_report\"][\"0\"][\"recall\"],\n",
    "    \"F1-score (class 0)\": results[\"eval_report\"][\"0\"][\"f1-score\"],\n",
    "    \"Precision (class 1)\": results[\"eval_report\"][\"1\"][\"precision\"],\n",
    "    \"Recall (class 1)\": results[\"eval_report\"][\"1\"][\"recall\"],\n",
    "    \"F1-score (class 1)\": results[\"eval_report\"][\"1\"][\"f1-score\"]\n",
    "}\n",
    "\n",
    "print(results_summary)\n"
   ],
   "id": "initial_id",
   "outputs": [
    {
     "data": {
      "text/plain": [
       "<IPython.core.display.HTML object>"
      ],
      "text/html": [
       "\n",
       "    <div>\n",
       "      \n",
       "      <progress value='63' max='63' style='width:300px; height:20px; vertical-align: middle;'></progress>\n",
       "      [63/63 02:45]\n",
       "    </div>\n",
       "    "
      ]
     },
     "metadata": {},
     "output_type": "display_data"
    },
    {
     "name": "stdout",
     "output_type": "stream",
     "text": [
      "{'Accuracy': 0.879, 'Precision (class 0)': 0.8825831702544031, 'Recall (class 0)': 0.880859375, 'F1-score (class 0)': 0.8817204301075269, 'Precision (class 1)': 0.8752556237218814, 'Recall (class 1)': 0.8770491803278688, 'F1-score (class 1)': 0.8761514841351075}\n"
     ]
    }
   ],
   "execution_count": 11
  }
 ],
 "metadata": {
  "kernelspec": {
   "display_name": "Python 3",
   "language": "python",
   "name": "python3"
  },
  "language_info": {
   "codemirror_mode": {
    "name": "ipython",
    "version": 2
   },
   "file_extension": ".py",
   "mimetype": "text/x-python",
   "name": "python",
   "nbconvert_exporter": "python",
   "pygments_lexer": "ipython2",
   "version": "2.7.6"
  }
 },
 "nbformat": 4,
 "nbformat_minor": 5
}
