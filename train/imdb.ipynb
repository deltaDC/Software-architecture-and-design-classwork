{
 "cells": [
  {
   "cell_type": "code",
   "id": "62ae52d842e4538f",
   "metadata": {
    "collapsed": true,
    "ExecuteTime": {
     "end_time": "2025-04-09T15:33:28.943903Z",
     "start_time": "2025-04-09T15:33:28.938086Z"
    }
   },
   "source": [
    "import numpy as np\n",
    "import matplotlib.pyplot as plt\n",
    "from datasets import load_dataset\n",
    "from sklearn.metrics import classification_report\n",
    "from tensorflow.keras.models import Sequential\n",
    "from tensorflow.keras.layers import Embedding, GlobalAveragePooling1D, Dense\n",
    "from tensorflow.keras.preprocessing.text import Tokenizer\n",
    "from tensorflow.keras.preprocessing.sequence import pad_sequences\n"
   ],
   "outputs": [],
   "execution_count": 9
  },
  {
   "metadata": {
    "ExecuteTime": {
     "end_time": "2025-04-09T15:33:42.276041Z",
     "start_time": "2025-04-09T15:33:28.949914Z"
    }
   },
   "cell_type": "code",
   "source": [
    "# Load IMDB dataset\n",
    "dataset = load_dataset(\"imdb\")\n",
    "train_texts = dataset[\"train\"][\"text\"][:2000]\n",
    "train_labels = dataset[\"train\"][\"label\"][:2000]\n",
    "test_texts = dataset[\"test\"][\"text\"][:1000]\n",
    "test_labels = dataset[\"test\"][\"label\"][:1000]\n"
   ],
   "id": "26d8fe1078dc6ff",
   "outputs": [],
   "execution_count": 10
  },
  {
   "metadata": {
    "ExecuteTime": {
     "end_time": "2025-04-09T15:33:43.086417Z",
     "start_time": "2025-04-09T15:33:42.277046Z"
    }
   },
   "cell_type": "code",
   "source": [
    "# Tokenization\n",
    "tokenizer = Tokenizer(num_words=10000, oov_token=\"<OOV>\")\n",
    "tokenizer.fit_on_texts(train_texts)\n",
    "train_seq = pad_sequences(tokenizer.texts_to_sequences(train_texts), maxlen=200)\n",
    "test_seq = pad_sequences(tokenizer.texts_to_sequences(test_texts), maxlen=200)\n"
   ],
   "id": "7632bbef77ffd218",
   "outputs": [],
   "execution_count": 11
  },
  {
   "metadata": {
    "ExecuteTime": {
     "end_time": "2025-04-09T15:33:43.106713Z",
     "start_time": "2025-04-09T15:33:43.088427Z"
    }
   },
   "cell_type": "code",
   "source": [
    "# Model\n",
    "model = Sequential([\n",
    "    Embedding(10000, 16, input_length=200),\n",
    "    GlobalAveragePooling1D(),\n",
    "    Dense(16, activation='relu'),\n",
    "    Dense(1, activation='sigmoid')\n",
    "])\n",
    "model.compile(loss=\"binary_crossentropy\", optimizer=\"adam\", metrics=[\"accuracy\"])\n"
   ],
   "id": "5b0a7dcf30bb7d0f",
   "outputs": [
    {
     "name": "stderr",
     "output_type": "stream",
     "text": [
      "D:\\Workspace\\rb\\sample-tracker-api\\venv\\Lib\\site-packages\\keras\\src\\layers\\core\\embedding.py:90: UserWarning: Argument `input_length` is deprecated. Just remove it.\n",
      "  warnings.warn(\n"
     ]
    }
   ],
   "execution_count": 12
  },
  {
   "metadata": {
    "ExecuteTime": {
     "end_time": "2025-04-09T15:34:21.715556Z",
     "start_time": "2025-04-09T15:33:43.108728Z"
    }
   },
   "cell_type": "code",
   "source": [
    "# Train\n",
    "history = model.fit(np.array(train_seq), np.array(train_labels), epochs=100, validation_data=(np.array(test_seq), np.array(test_labels)))\n"
   ],
   "id": "694bf87a37fb1382",
   "outputs": [
    {
     "name": "stdout",
     "output_type": "stream",
     "text": [
      "Epoch 1/100\n",
      "\u001B[1m63/63\u001B[0m \u001B[32m━━━━━━━━━━━━━━━━━━━━\u001B[0m\u001B[37m\u001B[0m \u001B[1m2s\u001B[0m 9ms/step - accuracy: 0.9931 - loss: 0.4113 - val_accuracy: 1.0000 - val_loss: 0.0434\n",
      "Epoch 2/100\n",
      "\u001B[1m63/63\u001B[0m \u001B[32m━━━━━━━━━━━━━━━━━━━━\u001B[0m\u001B[37m\u001B[0m \u001B[1m0s\u001B[0m 5ms/step - accuracy: 1.0000 - loss: 0.0325 - val_accuracy: 1.0000 - val_loss: 0.0087\n",
      "Epoch 3/100\n",
      "\u001B[1m63/63\u001B[0m \u001B[32m━━━━━━━━━━━━━━━━━━━━\u001B[0m\u001B[37m\u001B[0m \u001B[1m0s\u001B[0m 4ms/step - accuracy: 1.0000 - loss: 0.0083 - val_accuracy: 1.0000 - val_loss: 0.0036\n",
      "Epoch 4/100\n",
      "\u001B[1m63/63\u001B[0m \u001B[32m━━━━━━━━━━━━━━━━━━━━\u001B[0m\u001B[37m\u001B[0m \u001B[1m0s\u001B[0m 6ms/step - accuracy: 1.0000 - loss: 0.0039 - val_accuracy: 1.0000 - val_loss: 0.0019\n",
      "Epoch 5/100\n",
      "\u001B[1m63/63\u001B[0m \u001B[32m━━━━━━━━━━━━━━━━━━━━\u001B[0m\u001B[37m\u001B[0m \u001B[1m1s\u001B[0m 4ms/step - accuracy: 1.0000 - loss: 0.0023 - val_accuracy: 1.0000 - val_loss: 0.0012\n",
      "Epoch 6/100\n",
      "\u001B[1m63/63\u001B[0m \u001B[32m━━━━━━━━━━━━━━━━━━━━\u001B[0m\u001B[37m\u001B[0m \u001B[1m0s\u001B[0m 4ms/step - accuracy: 1.0000 - loss: 0.0014 - val_accuracy: 1.0000 - val_loss: 8.3091e-04\n",
      "Epoch 7/100\n",
      "\u001B[1m63/63\u001B[0m \u001B[32m━━━━━━━━━━━━━━━━━━━━\u001B[0m\u001B[37m\u001B[0m \u001B[1m0s\u001B[0m 4ms/step - accuracy: 1.0000 - loss: 9.8651e-04 - val_accuracy: 1.0000 - val_loss: 6.0188e-04\n",
      "Epoch 8/100\n",
      "\u001B[1m63/63\u001B[0m \u001B[32m━━━━━━━━━━━━━━━━━━━━\u001B[0m\u001B[37m\u001B[0m \u001B[1m0s\u001B[0m 4ms/step - accuracy: 1.0000 - loss: 7.4000e-04 - val_accuracy: 1.0000 - val_loss: 4.5590e-04\n",
      "Epoch 9/100\n",
      "\u001B[1m63/63\u001B[0m \u001B[32m━━━━━━━━━━━━━━━━━━━━\u001B[0m\u001B[37m\u001B[0m \u001B[1m0s\u001B[0m 3ms/step - accuracy: 1.0000 - loss: 5.5524e-04 - val_accuracy: 1.0000 - val_loss: 3.5659e-04\n",
      "Epoch 10/100\n",
      "\u001B[1m63/63\u001B[0m \u001B[32m━━━━━━━━━━━━━━━━━━━━\u001B[0m\u001B[37m\u001B[0m \u001B[1m0s\u001B[0m 5ms/step - accuracy: 1.0000 - loss: 4.5680e-04 - val_accuracy: 1.0000 - val_loss: 2.8618e-04\n",
      "Epoch 11/100\n",
      "\u001B[1m63/63\u001B[0m \u001B[32m━━━━━━━━━━━━━━━━━━━━\u001B[0m\u001B[37m\u001B[0m \u001B[1m0s\u001B[0m 4ms/step - accuracy: 1.0000 - loss: 3.8395e-04 - val_accuracy: 1.0000 - val_loss: 2.3454e-04\n",
      "Epoch 12/100\n",
      "\u001B[1m63/63\u001B[0m \u001B[32m━━━━━━━━━━━━━━━━━━━━\u001B[0m\u001B[37m\u001B[0m \u001B[1m0s\u001B[0m 4ms/step - accuracy: 1.0000 - loss: 3.0725e-04 - val_accuracy: 1.0000 - val_loss: 1.9560e-04\n",
      "Epoch 13/100\n",
      "\u001B[1m63/63\u001B[0m \u001B[32m━━━━━━━━━━━━━━━━━━━━\u001B[0m\u001B[37m\u001B[0m \u001B[1m0s\u001B[0m 3ms/step - accuracy: 1.0000 - loss: 2.5184e-04 - val_accuracy: 1.0000 - val_loss: 1.6529e-04\n",
      "Epoch 14/100\n",
      "\u001B[1m63/63\u001B[0m \u001B[32m━━━━━━━━━━━━━━━━━━━━\u001B[0m\u001B[37m\u001B[0m \u001B[1m0s\u001B[0m 3ms/step - accuracy: 1.0000 - loss: 2.3039e-04 - val_accuracy: 1.0000 - val_loss: 1.4151e-04\n",
      "Epoch 15/100\n",
      "\u001B[1m63/63\u001B[0m \u001B[32m━━━━━━━━━━━━━━━━━━━━\u001B[0m\u001B[37m\u001B[0m \u001B[1m0s\u001B[0m 4ms/step - accuracy: 1.0000 - loss: 1.9116e-04 - val_accuracy: 1.0000 - val_loss: 1.2218e-04\n",
      "Epoch 16/100\n",
      "\u001B[1m63/63\u001B[0m \u001B[32m━━━━━━━━━━━━━━━━━━━━\u001B[0m\u001B[37m\u001B[0m \u001B[1m0s\u001B[0m 4ms/step - accuracy: 1.0000 - loss: 1.6899e-04 - val_accuracy: 1.0000 - val_loss: 1.0647e-04\n",
      "Epoch 17/100\n",
      "\u001B[1m63/63\u001B[0m \u001B[32m━━━━━━━━━━━━━━━━━━━━\u001B[0m\u001B[37m\u001B[0m \u001B[1m0s\u001B[0m 4ms/step - accuracy: 1.0000 - loss: 1.5009e-04 - val_accuracy: 1.0000 - val_loss: 9.3703e-05\n",
      "Epoch 18/100\n",
      "\u001B[1m63/63\u001B[0m \u001B[32m━━━━━━━━━━━━━━━━━━━━\u001B[0m\u001B[37m\u001B[0m \u001B[1m0s\u001B[0m 4ms/step - accuracy: 1.0000 - loss: 1.3223e-04 - val_accuracy: 1.0000 - val_loss: 8.2869e-05\n",
      "Epoch 19/100\n",
      "\u001B[1m63/63\u001B[0m \u001B[32m━━━━━━━━━━━━━━━━━━━━\u001B[0m\u001B[37m\u001B[0m \u001B[1m0s\u001B[0m 3ms/step - accuracy: 1.0000 - loss: 1.1764e-04 - val_accuracy: 1.0000 - val_loss: 7.3607e-05\n",
      "Epoch 20/100\n",
      "\u001B[1m63/63\u001B[0m \u001B[32m━━━━━━━━━━━━━━━━━━━━\u001B[0m\u001B[37m\u001B[0m \u001B[1m0s\u001B[0m 5ms/step - accuracy: 1.0000 - loss: 1.0408e-04 - val_accuracy: 1.0000 - val_loss: 6.5907e-05\n",
      "Epoch 21/100\n",
      "\u001B[1m63/63\u001B[0m \u001B[32m━━━━━━━━━━━━━━━━━━━━\u001B[0m\u001B[37m\u001B[0m \u001B[1m0s\u001B[0m 4ms/step - accuracy: 1.0000 - loss: 9.2738e-05 - val_accuracy: 1.0000 - val_loss: 5.9323e-05\n",
      "Epoch 22/100\n",
      "\u001B[1m63/63\u001B[0m \u001B[32m━━━━━━━━━━━━━━━━━━━━\u001B[0m\u001B[37m\u001B[0m \u001B[1m0s\u001B[0m 5ms/step - accuracy: 1.0000 - loss: 8.4929e-05 - val_accuracy: 1.0000 - val_loss: 5.3576e-05\n",
      "Epoch 23/100\n",
      "\u001B[1m63/63\u001B[0m \u001B[32m━━━━━━━━━━━━━━━━━━━━\u001B[0m\u001B[37m\u001B[0m \u001B[1m0s\u001B[0m 4ms/step - accuracy: 1.0000 - loss: 7.7402e-05 - val_accuracy: 1.0000 - val_loss: 4.8571e-05\n",
      "Epoch 24/100\n",
      "\u001B[1m63/63\u001B[0m \u001B[32m━━━━━━━━━━━━━━━━━━━━\u001B[0m\u001B[37m\u001B[0m \u001B[1m0s\u001B[0m 3ms/step - accuracy: 1.0000 - loss: 7.3882e-05 - val_accuracy: 1.0000 - val_loss: 4.4192e-05\n",
      "Epoch 25/100\n",
      "\u001B[1m63/63\u001B[0m \u001B[32m━━━━━━━━━━━━━━━━━━━━\u001B[0m\u001B[37m\u001B[0m \u001B[1m0s\u001B[0m 5ms/step - accuracy: 1.0000 - loss: 6.4132e-05 - val_accuracy: 1.0000 - val_loss: 4.0343e-05\n",
      "Epoch 26/100\n",
      "\u001B[1m63/63\u001B[0m \u001B[32m━━━━━━━━━━━━━━━━━━━━\u001B[0m\u001B[37m\u001B[0m \u001B[1m1s\u001B[0m 3ms/step - accuracy: 1.0000 - loss: 5.8377e-05 - val_accuracy: 1.0000 - val_loss: 3.6960e-05\n",
      "Epoch 27/100\n",
      "\u001B[1m63/63\u001B[0m \u001B[32m━━━━━━━━━━━━━━━━━━━━\u001B[0m\u001B[37m\u001B[0m \u001B[1m0s\u001B[0m 4ms/step - accuracy: 1.0000 - loss: 5.4741e-05 - val_accuracy: 1.0000 - val_loss: 3.3922e-05\n",
      "Epoch 28/100\n",
      "\u001B[1m63/63\u001B[0m \u001B[32m━━━━━━━━━━━━━━━━━━━━\u001B[0m\u001B[37m\u001B[0m \u001B[1m0s\u001B[0m 4ms/step - accuracy: 1.0000 - loss: 4.8250e-05 - val_accuracy: 1.0000 - val_loss: 3.1254e-05\n",
      "Epoch 29/100\n",
      "\u001B[1m63/63\u001B[0m \u001B[32m━━━━━━━━━━━━━━━━━━━━\u001B[0m\u001B[37m\u001B[0m \u001B[1m0s\u001B[0m 4ms/step - accuracy: 1.0000 - loss: 4.7521e-05 - val_accuracy: 1.0000 - val_loss: 2.8805e-05\n",
      "Epoch 30/100\n",
      "\u001B[1m63/63\u001B[0m \u001B[32m━━━━━━━━━━━━━━━━━━━━\u001B[0m\u001B[37m\u001B[0m \u001B[1m0s\u001B[0m 4ms/step - accuracy: 1.0000 - loss: 4.2696e-05 - val_accuracy: 1.0000 - val_loss: 2.6656e-05\n",
      "Epoch 31/100\n",
      "\u001B[1m63/63\u001B[0m \u001B[32m━━━━━━━━━━━━━━━━━━━━\u001B[0m\u001B[37m\u001B[0m \u001B[1m0s\u001B[0m 4ms/step - accuracy: 1.0000 - loss: 4.0951e-05 - val_accuracy: 1.0000 - val_loss: 2.4711e-05\n",
      "Epoch 32/100\n",
      "\u001B[1m63/63\u001B[0m \u001B[32m━━━━━━━━━━━━━━━━━━━━\u001B[0m\u001B[37m\u001B[0m \u001B[1m0s\u001B[0m 4ms/step - accuracy: 1.0000 - loss: 3.6608e-05 - val_accuracy: 1.0000 - val_loss: 2.2968e-05\n",
      "Epoch 33/100\n",
      "\u001B[1m63/63\u001B[0m \u001B[32m━━━━━━━━━━━━━━━━━━━━\u001B[0m\u001B[37m\u001B[0m \u001B[1m0s\u001B[0m 4ms/step - accuracy: 1.0000 - loss: 3.5635e-05 - val_accuracy: 1.0000 - val_loss: 2.1358e-05\n",
      "Epoch 34/100\n",
      "\u001B[1m63/63\u001B[0m \u001B[32m━━━━━━━━━━━━━━━━━━━━\u001B[0m\u001B[37m\u001B[0m \u001B[1m0s\u001B[0m 4ms/step - accuracy: 1.0000 - loss: 3.3337e-05 - val_accuracy: 1.0000 - val_loss: 1.9902e-05\n",
      "Epoch 35/100\n",
      "\u001B[1m63/63\u001B[0m \u001B[32m━━━━━━━━━━━━━━━━━━━━\u001B[0m\u001B[37m\u001B[0m \u001B[1m0s\u001B[0m 4ms/step - accuracy: 1.0000 - loss: 3.1815e-05 - val_accuracy: 1.0000 - val_loss: 1.8564e-05\n",
      "Epoch 36/100\n",
      "\u001B[1m63/63\u001B[0m \u001B[32m━━━━━━━━━━━━━━━━━━━━\u001B[0m\u001B[37m\u001B[0m \u001B[1m0s\u001B[0m 5ms/step - accuracy: 1.0000 - loss: 2.6475e-05 - val_accuracy: 1.0000 - val_loss: 1.7368e-05\n",
      "Epoch 37/100\n",
      "\u001B[1m63/63\u001B[0m \u001B[32m━━━━━━━━━━━━━━━━━━━━\u001B[0m\u001B[37m\u001B[0m \u001B[1m0s\u001B[0m 4ms/step - accuracy: 1.0000 - loss: 2.5677e-05 - val_accuracy: 1.0000 - val_loss: 1.6252e-05\n",
      "Epoch 38/100\n",
      "\u001B[1m63/63\u001B[0m \u001B[32m━━━━━━━━━━━━━━━━━━━━\u001B[0m\u001B[37m\u001B[0m \u001B[1m0s\u001B[0m 5ms/step - accuracy: 1.0000 - loss: 2.4742e-05 - val_accuracy: 1.0000 - val_loss: 1.5238e-05\n",
      "Epoch 39/100\n",
      "\u001B[1m63/63\u001B[0m \u001B[32m━━━━━━━━━━━━━━━━━━━━\u001B[0m\u001B[37m\u001B[0m \u001B[1m0s\u001B[0m 4ms/step - accuracy: 1.0000 - loss: 2.2768e-05 - val_accuracy: 1.0000 - val_loss: 1.4285e-05\n",
      "Epoch 40/100\n",
      "\u001B[1m63/63\u001B[0m \u001B[32m━━━━━━━━━━━━━━━━━━━━\u001B[0m\u001B[37m\u001B[0m \u001B[1m0s\u001B[0m 4ms/step - accuracy: 1.0000 - loss: 2.1042e-05 - val_accuracy: 1.0000 - val_loss: 1.3422e-05\n",
      "Epoch 41/100\n",
      "\u001B[1m63/63\u001B[0m \u001B[32m━━━━━━━━━━━━━━━━━━━━\u001B[0m\u001B[37m\u001B[0m \u001B[1m0s\u001B[0m 5ms/step - accuracy: 1.0000 - loss: 2.1224e-05 - val_accuracy: 1.0000 - val_loss: 1.2605e-05\n",
      "Epoch 42/100\n",
      "\u001B[1m63/63\u001B[0m \u001B[32m━━━━━━━━━━━━━━━━━━━━\u001B[0m\u001B[37m\u001B[0m \u001B[1m0s\u001B[0m 4ms/step - accuracy: 1.0000 - loss: 1.9126e-05 - val_accuracy: 1.0000 - val_loss: 1.1875e-05\n",
      "Epoch 43/100\n",
      "\u001B[1m63/63\u001B[0m \u001B[32m━━━━━━━━━━━━━━━━━━━━\u001B[0m\u001B[37m\u001B[0m \u001B[1m0s\u001B[0m 4ms/step - accuracy: 1.0000 - loss: 1.8966e-05 - val_accuracy: 1.0000 - val_loss: 1.1186e-05\n",
      "Epoch 44/100\n",
      "\u001B[1m63/63\u001B[0m \u001B[32m━━━━━━━━━━━━━━━━━━━━\u001B[0m\u001B[37m\u001B[0m \u001B[1m0s\u001B[0m 5ms/step - accuracy: 1.0000 - loss: 1.7428e-05 - val_accuracy: 1.0000 - val_loss: 1.0557e-05\n",
      "Epoch 45/100\n",
      "\u001B[1m63/63\u001B[0m \u001B[32m━━━━━━━━━━━━━━━━━━━━\u001B[0m\u001B[37m\u001B[0m \u001B[1m0s\u001B[0m 6ms/step - accuracy: 1.0000 - loss: 1.6475e-05 - val_accuracy: 1.0000 - val_loss: 9.9652e-06\n",
      "Epoch 46/100\n",
      "\u001B[1m63/63\u001B[0m \u001B[32m━━━━━━━━━━━━━━━━━━━━\u001B[0m\u001B[37m\u001B[0m \u001B[1m0s\u001B[0m 5ms/step - accuracy: 1.0000 - loss: 1.4731e-05 - val_accuracy: 1.0000 - val_loss: 9.4074e-06\n",
      "Epoch 47/100\n",
      "\u001B[1m63/63\u001B[0m \u001B[32m━━━━━━━━━━━━━━━━━━━━\u001B[0m\u001B[37m\u001B[0m \u001B[1m0s\u001B[0m 5ms/step - accuracy: 1.0000 - loss: 1.4439e-05 - val_accuracy: 1.0000 - val_loss: 8.8962e-06\n",
      "Epoch 48/100\n",
      "\u001B[1m63/63\u001B[0m \u001B[32m━━━━━━━━━━━━━━━━━━━━\u001B[0m\u001B[37m\u001B[0m \u001B[1m0s\u001B[0m 4ms/step - accuracy: 1.0000 - loss: 1.4637e-05 - val_accuracy: 1.0000 - val_loss: 8.4188e-06\n",
      "Epoch 49/100\n",
      "\u001B[1m63/63\u001B[0m \u001B[32m━━━━━━━━━━━━━━━━━━━━\u001B[0m\u001B[37m\u001B[0m \u001B[1m0s\u001B[0m 4ms/step - accuracy: 1.0000 - loss: 1.3439e-05 - val_accuracy: 1.0000 - val_loss: 7.9776e-06\n",
      "Epoch 50/100\n",
      "\u001B[1m63/63\u001B[0m \u001B[32m━━━━━━━━━━━━━━━━━━━━\u001B[0m\u001B[37m\u001B[0m \u001B[1m0s\u001B[0m 3ms/step - accuracy: 1.0000 - loss: 1.3228e-05 - val_accuracy: 1.0000 - val_loss: 7.5614e-06\n",
      "Epoch 51/100\n",
      "\u001B[1m63/63\u001B[0m \u001B[32m━━━━━━━━━━━━━━━━━━━━\u001B[0m\u001B[37m\u001B[0m \u001B[1m0s\u001B[0m 4ms/step - accuracy: 1.0000 - loss: 1.1470e-05 - val_accuracy: 1.0000 - val_loss: 7.1677e-06\n",
      "Epoch 52/100\n",
      "\u001B[1m63/63\u001B[0m \u001B[32m━━━━━━━━━━━━━━━━━━━━\u001B[0m\u001B[37m\u001B[0m \u001B[1m0s\u001B[0m 4ms/step - accuracy: 1.0000 - loss: 1.1172e-05 - val_accuracy: 1.0000 - val_loss: 6.8007e-06\n",
      "Epoch 53/100\n",
      "\u001B[1m63/63\u001B[0m \u001B[32m━━━━━━━━━━━━━━━━━━━━\u001B[0m\u001B[37m\u001B[0m \u001B[1m0s\u001B[0m 5ms/step - accuracy: 1.0000 - loss: 1.0602e-05 - val_accuracy: 1.0000 - val_loss: 6.4545e-06\n",
      "Epoch 54/100\n",
      "\u001B[1m63/63\u001B[0m \u001B[32m━━━━━━━━━━━━━━━━━━━━\u001B[0m\u001B[37m\u001B[0m \u001B[1m0s\u001B[0m 5ms/step - accuracy: 1.0000 - loss: 1.0211e-05 - val_accuracy: 1.0000 - val_loss: 6.1336e-06\n",
      "Epoch 55/100\n",
      "\u001B[1m63/63\u001B[0m \u001B[32m━━━━━━━━━━━━━━━━━━━━\u001B[0m\u001B[37m\u001B[0m \u001B[1m0s\u001B[0m 4ms/step - accuracy: 1.0000 - loss: 9.3355e-06 - val_accuracy: 1.0000 - val_loss: 5.8343e-06\n",
      "Epoch 56/100\n",
      "\u001B[1m63/63\u001B[0m \u001B[32m━━━━━━━━━━━━━━━━━━━━\u001B[0m\u001B[37m\u001B[0m \u001B[1m0s\u001B[0m 3ms/step - accuracy: 1.0000 - loss: 9.5478e-06 - val_accuracy: 1.0000 - val_loss: 5.5464e-06\n",
      "Epoch 57/100\n",
      "\u001B[1m63/63\u001B[0m \u001B[32m━━━━━━━━━━━━━━━━━━━━\u001B[0m\u001B[37m\u001B[0m \u001B[1m0s\u001B[0m 3ms/step - accuracy: 1.0000 - loss: 8.7196e-06 - val_accuracy: 1.0000 - val_loss: 5.2795e-06\n",
      "Epoch 58/100\n",
      "\u001B[1m63/63\u001B[0m \u001B[32m━━━━━━━━━━━━━━━━━━━━\u001B[0m\u001B[37m\u001B[0m \u001B[1m0s\u001B[0m 4ms/step - accuracy: 1.0000 - loss: 8.3654e-06 - val_accuracy: 1.0000 - val_loss: 5.0250e-06\n",
      "Epoch 59/100\n",
      "\u001B[1m63/63\u001B[0m \u001B[32m━━━━━━━━━━━━━━━━━━━━\u001B[0m\u001B[37m\u001B[0m \u001B[1m0s\u001B[0m 3ms/step - accuracy: 1.0000 - loss: 7.7063e-06 - val_accuracy: 1.0000 - val_loss: 4.7864e-06\n",
      "Epoch 60/100\n",
      "\u001B[1m63/63\u001B[0m \u001B[32m━━━━━━━━━━━━━━━━━━━━\u001B[0m\u001B[37m\u001B[0m \u001B[1m0s\u001B[0m 6ms/step - accuracy: 1.0000 - loss: 7.3643e-06 - val_accuracy: 1.0000 - val_loss: 4.5607e-06\n",
      "Epoch 61/100\n",
      "\u001B[1m63/63\u001B[0m \u001B[32m━━━━━━━━━━━━━━━━━━━━\u001B[0m\u001B[37m\u001B[0m \u001B[1m0s\u001B[0m 5ms/step - accuracy: 1.0000 - loss: 6.7787e-06 - val_accuracy: 1.0000 - val_loss: 4.3489e-06\n",
      "Epoch 62/100\n",
      "\u001B[1m63/63\u001B[0m \u001B[32m━━━━━━━━━━━━━━━━━━━━\u001B[0m\u001B[37m\u001B[0m \u001B[1m0s\u001B[0m 4ms/step - accuracy: 1.0000 - loss: 6.9999e-06 - val_accuracy: 1.0000 - val_loss: 4.1470e-06\n",
      "Epoch 63/100\n",
      "\u001B[1m63/63\u001B[0m \u001B[32m━━━━━━━━━━━━━━━━━━━━\u001B[0m\u001B[37m\u001B[0m \u001B[1m0s\u001B[0m 4ms/step - accuracy: 1.0000 - loss: 6.7750e-06 - val_accuracy: 1.0000 - val_loss: 3.9540e-06\n",
      "Epoch 64/100\n",
      "\u001B[1m63/63\u001B[0m \u001B[32m━━━━━━━━━━━━━━━━━━━━\u001B[0m\u001B[37m\u001B[0m \u001B[1m0s\u001B[0m 4ms/step - accuracy: 1.0000 - loss: 6.2435e-06 - val_accuracy: 1.0000 - val_loss: 3.7767e-06\n",
      "Epoch 65/100\n",
      "\u001B[1m63/63\u001B[0m \u001B[32m━━━━━━━━━━━━━━━━━━━━\u001B[0m\u001B[37m\u001B[0m \u001B[1m0s\u001B[0m 4ms/step - accuracy: 1.0000 - loss: 6.1225e-06 - val_accuracy: 1.0000 - val_loss: 3.6054e-06\n",
      "Epoch 66/100\n",
      "\u001B[1m63/63\u001B[0m \u001B[32m━━━━━━━━━━━━━━━━━━━━\u001B[0m\u001B[37m\u001B[0m \u001B[1m0s\u001B[0m 4ms/step - accuracy: 1.0000 - loss: 6.3596e-06 - val_accuracy: 1.0000 - val_loss: 3.4401e-06\n",
      "Epoch 67/100\n",
      "\u001B[1m63/63\u001B[0m \u001B[32m━━━━━━━━━━━━━━━━━━━━\u001B[0m\u001B[37m\u001B[0m \u001B[1m1s\u001B[0m 5ms/step - accuracy: 1.0000 - loss: 5.4451e-06 - val_accuracy: 1.0000 - val_loss: 3.2891e-06\n",
      "Epoch 68/100\n",
      "\u001B[1m63/63\u001B[0m \u001B[32m━━━━━━━━━━━━━━━━━━━━\u001B[0m\u001B[37m\u001B[0m \u001B[1m0s\u001B[0m 5ms/step - accuracy: 1.0000 - loss: 5.2758e-06 - val_accuracy: 1.0000 - val_loss: 3.1457e-06\n",
      "Epoch 69/100\n",
      "\u001B[1m63/63\u001B[0m \u001B[32m━━━━━━━━━━━━━━━━━━━━\u001B[0m\u001B[37m\u001B[0m \u001B[1m0s\u001B[0m 4ms/step - accuracy: 1.0000 - loss: 5.0864e-06 - val_accuracy: 1.0000 - val_loss: 3.0068e-06\n",
      "Epoch 70/100\n",
      "\u001B[1m63/63\u001B[0m \u001B[32m━━━━━━━━━━━━━━━━━━━━\u001B[0m\u001B[37m\u001B[0m \u001B[1m0s\u001B[0m 3ms/step - accuracy: 1.0000 - loss: 4.5058e-06 - val_accuracy: 1.0000 - val_loss: 2.8748e-06\n",
      "Epoch 71/100\n",
      "\u001B[1m63/63\u001B[0m \u001B[32m━━━━━━━━━━━━━━━━━━━━\u001B[0m\u001B[37m\u001B[0m \u001B[1m0s\u001B[0m 4ms/step - accuracy: 1.0000 - loss: 4.3614e-06 - val_accuracy: 1.0000 - val_loss: 2.7504e-06\n",
      "Epoch 72/100\n",
      "\u001B[1m63/63\u001B[0m \u001B[32m━━━━━━━━━━━━━━━━━━━━\u001B[0m\u001B[37m\u001B[0m \u001B[1m0s\u001B[0m 4ms/step - accuracy: 1.0000 - loss: 4.3661e-06 - val_accuracy: 1.0000 - val_loss: 2.6306e-06\n",
      "Epoch 73/100\n",
      "\u001B[1m63/63\u001B[0m \u001B[32m━━━━━━━━━━━━━━━━━━━━\u001B[0m\u001B[37m\u001B[0m \u001B[1m0s\u001B[0m 4ms/step - accuracy: 1.0000 - loss: 4.2497e-06 - val_accuracy: 1.0000 - val_loss: 2.5175e-06\n",
      "Epoch 74/100\n",
      "\u001B[1m63/63\u001B[0m \u001B[32m━━━━━━━━━━━━━━━━━━━━\u001B[0m\u001B[37m\u001B[0m \u001B[1m0s\u001B[0m 4ms/step - accuracy: 1.0000 - loss: 4.0506e-06 - val_accuracy: 1.0000 - val_loss: 2.4096e-06\n",
      "Epoch 75/100\n",
      "\u001B[1m63/63\u001B[0m \u001B[32m━━━━━━━━━━━━━━━━━━━━\u001B[0m\u001B[37m\u001B[0m \u001B[1m0s\u001B[0m 5ms/step - accuracy: 1.0000 - loss: 3.9959e-06 - val_accuracy: 1.0000 - val_loss: 2.3083e-06\n",
      "Epoch 76/100\n",
      "\u001B[1m63/63\u001B[0m \u001B[32m━━━━━━━━━━━━━━━━━━━━\u001B[0m\u001B[37m\u001B[0m \u001B[1m0s\u001B[0m 5ms/step - accuracy: 1.0000 - loss: 3.8807e-06 - val_accuracy: 1.0000 - val_loss: 2.2107e-06\n",
      "Epoch 77/100\n",
      "\u001B[1m63/63\u001B[0m \u001B[32m━━━━━━━━━━━━━━━━━━━━\u001B[0m\u001B[37m\u001B[0m \u001B[1m0s\u001B[0m 4ms/step - accuracy: 1.0000 - loss: 3.7611e-06 - val_accuracy: 1.0000 - val_loss: 2.1188e-06\n",
      "Epoch 78/100\n",
      "\u001B[1m63/63\u001B[0m \u001B[32m━━━━━━━━━━━━━━━━━━━━\u001B[0m\u001B[37m\u001B[0m \u001B[1m0s\u001B[0m 5ms/step - accuracy: 1.0000 - loss: 3.4704e-06 - val_accuracy: 1.0000 - val_loss: 2.0304e-06\n",
      "Epoch 79/100\n",
      "\u001B[1m63/63\u001B[0m \u001B[32m━━━━━━━━━━━━━━━━━━━━\u001B[0m\u001B[37m\u001B[0m \u001B[1m0s\u001B[0m 6ms/step - accuracy: 1.0000 - loss: 3.1649e-06 - val_accuracy: 1.0000 - val_loss: 1.9480e-06\n",
      "Epoch 80/100\n",
      "\u001B[1m63/63\u001B[0m \u001B[32m━━━━━━━━━━━━━━━━━━━━\u001B[0m\u001B[37m\u001B[0m \u001B[1m1s\u001B[0m 6ms/step - accuracy: 1.0000 - loss: 3.1157e-06 - val_accuracy: 1.0000 - val_loss: 1.8678e-06\n",
      "Epoch 81/100\n",
      "\u001B[1m63/63\u001B[0m \u001B[32m━━━━━━━━━━━━━━━━━━━━\u001B[0m\u001B[37m\u001B[0m \u001B[1m1s\u001B[0m 4ms/step - accuracy: 1.0000 - loss: 3.2014e-06 - val_accuracy: 1.0000 - val_loss: 1.7906e-06\n",
      "Epoch 82/100\n",
      "\u001B[1m63/63\u001B[0m \u001B[32m━━━━━━━━━━━━━━━━━━━━\u001B[0m\u001B[37m\u001B[0m \u001B[1m0s\u001B[0m 4ms/step - accuracy: 1.0000 - loss: 2.7818e-06 - val_accuracy: 1.0000 - val_loss: 1.7185e-06\n",
      "Epoch 83/100\n",
      "\u001B[1m63/63\u001B[0m \u001B[32m━━━━━━━━━━━━━━━━━━━━\u001B[0m\u001B[37m\u001B[0m \u001B[1m0s\u001B[0m 4ms/step - accuracy: 1.0000 - loss: 2.8836e-06 - val_accuracy: 1.0000 - val_loss: 1.6478e-06\n",
      "Epoch 84/100\n",
      "\u001B[1m63/63\u001B[0m \u001B[32m━━━━━━━━━━━━━━━━━━━━\u001B[0m\u001B[37m\u001B[0m \u001B[1m0s\u001B[0m 3ms/step - accuracy: 1.0000 - loss: 2.6934e-06 - val_accuracy: 1.0000 - val_loss: 1.5826e-06\n",
      "Epoch 85/100\n",
      "\u001B[1m63/63\u001B[0m \u001B[32m━━━━━━━━━━━━━━━━━━━━\u001B[0m\u001B[37m\u001B[0m \u001B[1m0s\u001B[0m 4ms/step - accuracy: 1.0000 - loss: 2.6376e-06 - val_accuracy: 1.0000 - val_loss: 1.5188e-06\n",
      "Epoch 86/100\n",
      "\u001B[1m63/63\u001B[0m \u001B[32m━━━━━━━━━━━━━━━━━━━━\u001B[0m\u001B[37m\u001B[0m \u001B[1m0s\u001B[0m 5ms/step - accuracy: 1.0000 - loss: 2.5407e-06 - val_accuracy: 1.0000 - val_loss: 1.4576e-06\n",
      "Epoch 87/100\n",
      "\u001B[1m63/63\u001B[0m \u001B[32m━━━━━━━━━━━━━━━━━━━━\u001B[0m\u001B[37m\u001B[0m \u001B[1m0s\u001B[0m 4ms/step - accuracy: 1.0000 - loss: 2.2743e-06 - val_accuracy: 1.0000 - val_loss: 1.4004e-06\n",
      "Epoch 88/100\n",
      "\u001B[1m63/63\u001B[0m \u001B[32m━━━━━━━━━━━━━━━━━━━━\u001B[0m\u001B[37m\u001B[0m \u001B[1m0s\u001B[0m 4ms/step - accuracy: 1.0000 - loss: 2.3566e-06 - val_accuracy: 1.0000 - val_loss: 1.3429e-06\n",
      "Epoch 89/100\n",
      "\u001B[1m63/63\u001B[0m \u001B[32m━━━━━━━━━━━━━━━━━━━━\u001B[0m\u001B[37m\u001B[0m \u001B[1m0s\u001B[0m 4ms/step - accuracy: 1.0000 - loss: 2.2127e-06 - val_accuracy: 1.0000 - val_loss: 1.2903e-06\n",
      "Epoch 90/100\n",
      "\u001B[1m63/63\u001B[0m \u001B[32m━━━━━━━━━━━━━━━━━━━━\u001B[0m\u001B[37m\u001B[0m \u001B[1m0s\u001B[0m 3ms/step - accuracy: 1.0000 - loss: 2.1926e-06 - val_accuracy: 1.0000 - val_loss: 1.2392e-06\n",
      "Epoch 91/100\n",
      "\u001B[1m63/63\u001B[0m \u001B[32m━━━━━━━━━━━━━━━━━━━━\u001B[0m\u001B[37m\u001B[0m \u001B[1m0s\u001B[0m 4ms/step - accuracy: 1.0000 - loss: 2.0374e-06 - val_accuracy: 1.0000 - val_loss: 1.1907e-06\n",
      "Epoch 92/100\n",
      "\u001B[1m63/63\u001B[0m \u001B[32m━━━━━━━━━━━━━━━━━━━━\u001B[0m\u001B[37m\u001B[0m \u001B[1m0s\u001B[0m 4ms/step - accuracy: 1.0000 - loss: 1.9379e-06 - val_accuracy: 1.0000 - val_loss: 1.1444e-06\n",
      "Epoch 93/100\n",
      "\u001B[1m63/63\u001B[0m \u001B[32m━━━━━━━━━━━━━━━━━━━━\u001B[0m\u001B[37m\u001B[0m \u001B[1m0s\u001B[0m 3ms/step - accuracy: 1.0000 - loss: 1.7922e-06 - val_accuracy: 1.0000 - val_loss: 1.0997e-06\n",
      "Epoch 94/100\n",
      "\u001B[1m63/63\u001B[0m \u001B[32m━━━━━━━━━━━━━━━━━━━━\u001B[0m\u001B[37m\u001B[0m \u001B[1m0s\u001B[0m 5ms/step - accuracy: 1.0000 - loss: 1.9348e-06 - val_accuracy: 1.0000 - val_loss: 1.0564e-06\n",
      "Epoch 95/100\n",
      "\u001B[1m63/63\u001B[0m \u001B[32m━━━━━━━━━━━━━━━━━━━━\u001B[0m\u001B[37m\u001B[0m \u001B[1m0s\u001B[0m 6ms/step - accuracy: 1.0000 - loss: 1.8142e-06 - val_accuracy: 1.0000 - val_loss: 1.0159e-06\n",
      "Epoch 96/100\n",
      "\u001B[1m63/63\u001B[0m \u001B[32m━━━━━━━━━━━━━━━━━━━━\u001B[0m\u001B[37m\u001B[0m \u001B[1m0s\u001B[0m 5ms/step - accuracy: 1.0000 - loss: 1.6400e-06 - val_accuracy: 1.0000 - val_loss: 9.7700e-07\n",
      "Epoch 97/100\n",
      "\u001B[1m63/63\u001B[0m \u001B[32m━━━━━━━━━━━━━━━━━━━━\u001B[0m\u001B[37m\u001B[0m \u001B[1m0s\u001B[0m 4ms/step - accuracy: 1.0000 - loss: 1.5846e-06 - val_accuracy: 1.0000 - val_loss: 9.3864e-07\n",
      "Epoch 98/100\n",
      "\u001B[1m63/63\u001B[0m \u001B[32m━━━━━━━━━━━━━━━━━━━━\u001B[0m\u001B[37m\u001B[0m \u001B[1m0s\u001B[0m 4ms/step - accuracy: 1.0000 - loss: 1.5955e-06 - val_accuracy: 1.0000 - val_loss: 9.0283e-07\n",
      "Epoch 99/100\n",
      "\u001B[1m63/63\u001B[0m \u001B[32m━━━━━━━━━━━━━━━━━━━━\u001B[0m\u001B[37m\u001B[0m \u001B[1m0s\u001B[0m 4ms/step - accuracy: 1.0000 - loss: 1.4747e-06 - val_accuracy: 1.0000 - val_loss: 8.6907e-07\n",
      "Epoch 100/100\n",
      "\u001B[1m63/63\u001B[0m \u001B[32m━━━━━━━━━━━━━━━━━━━━\u001B[0m\u001B[37m\u001B[0m \u001B[1m0s\u001B[0m 5ms/step - accuracy: 1.0000 - loss: 1.4968e-06 - val_accuracy: 1.0000 - val_loss: 8.3531e-07\n"
     ]
    }
   ],
   "execution_count": 13
  },
  {
   "metadata": {
    "ExecuteTime": {
     "end_time": "2025-04-09T15:34:22.214126Z",
     "start_time": "2025-04-09T15:34:21.716569Z"
    }
   },
   "cell_type": "code",
   "source": [
    "# Evaluate\n",
    "preds = (model.predict(test_seq) > 0.5).astype(\"int32\")\n",
    "report = classification_report(test_labels, preds, output_dict=False)\n",
    "print(report)\n"
   ],
   "id": "c9f0e5046e1c099",
   "outputs": [
    {
     "name": "stdout",
     "output_type": "stream",
     "text": [
      "\u001B[1m32/32\u001B[0m \u001B[32m━━━━━━━━━━━━━━━━━━━━\u001B[0m\u001B[37m\u001B[0m \u001B[1m0s\u001B[0m 5ms/step\n",
      "              precision    recall  f1-score   support\n",
      "\n",
      "           0       1.00      1.00      1.00      1000\n",
      "\n",
      "    accuracy                           1.00      1000\n",
      "   macro avg       1.00      1.00      1.00      1000\n",
      "weighted avg       1.00      1.00      1.00      1000\n",
      "\n"
     ]
    }
   ],
   "execution_count": 14
  },
  {
   "metadata": {
    "ExecuteTime": {
     "end_time": "2025-04-09T15:34:22.240263Z",
     "start_time": "2025-04-09T15:34:22.215135Z"
    }
   },
   "cell_type": "code",
   "source": [
    "# Save\n",
    "model.save(\"sentiment_model_imdb.h5\")\n"
   ],
   "id": "d3986ae4f23f81e5",
   "outputs": [
    {
     "name": "stderr",
     "output_type": "stream",
     "text": [
      "WARNING:absl:You are saving your model as an HDF5 file via `model.save()` or `keras.saving.save_model(model)`. This file format is considered legacy. We recommend using instead the native Keras format, e.g. `model.save('my_model.keras')` or `keras.saving.save_model(model, 'my_model.keras')`. \n"
     ]
    }
   ],
   "execution_count": 15
  },
  {
   "metadata": {
    "ExecuteTime": {
     "end_time": "2025-04-09T15:34:22.593757Z",
     "start_time": "2025-04-09T15:34:22.241270Z"
    }
   },
   "cell_type": "code",
   "source": [
    "# Plot\n",
    "plt.figure(figsize=(12, 5))\n",
    "plt.subplot(1, 2, 1)\n",
    "plt.plot(history.history[\"accuracy\"], label=\"Train Acc\")\n",
    "plt.plot(history.history[\"val_accuracy\"], label=\"Val Acc\")\n",
    "plt.title(\"Accuracy\")\n",
    "plt.legend()\n",
    "\n",
    "plt.subplot(1, 2, 2)\n",
    "plt.plot(history.history[\"loss\"], label=\"Train Loss\")\n",
    "plt.plot(history.history[\"val_loss\"], label=\"Val Loss\")\n",
    "plt.title(\"Loss\")\n",
    "plt.legend()\n",
    "plt.tight_layout()\n",
    "plt.show()\n"
   ],
   "id": "initial_id",
   "outputs": [
    {
     "data": {
      "text/plain": [
       "<Figure size 1200x500 with 2 Axes>"
      ],
      "image/png": "[encoded data removed]"
     },
     "metadata": {},
     "output_type": "display_data"
    }
   ],
   "execution_count": 16
  }
 ],
 "metadata": {
  "kernelspec": {
   "display_name": "Python 3",
   "language": "python",
   "name": "python3"
  },
  "language_info": {
   "codemirror_mode": {
    "name": "ipython",
    "version": 2
   },
   "file_extension": ".py",
   "mimetype": "text/x-python",
   "name": "python",
   "nbconvert_exporter": "python",
   "pygments_lexer": "ipython2",
   "version": "2.7.6"
  }
 },
 "nbformat": 4,
 "nbformat_minor": 5
}
