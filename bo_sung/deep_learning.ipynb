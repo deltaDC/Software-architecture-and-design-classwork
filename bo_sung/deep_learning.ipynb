{
 "cells": [
  {
   "cell_type": "code",
   "id": "5d9f1cd1ed5b2b96",
   "metadata": {
    "collapsed": true,
    "ExecuteTime": {
     "end_time": "2025-06-09T18:14:56.284904Z",
     "start_time": "2025-06-09T18:14:45.443865Z"
    }
   },
   "source": [
    "import tensorflow as tf\n",
    "from tensorflow.keras import layers, models"
   ],
   "outputs": [],
   "execution_count": 1
  },
  {
   "metadata": {
    "ExecuteTime": {
     "end_time": "2025-06-09T18:14:56.291695Z",
     "start_time": "2025-06-09T18:14:56.286910Z"
    }
   },
   "cell_type": "code",
   "source": "mnist = tf.keras.datasets.mnist",
   "id": "17c0b7e139bb2a0c",
   "outputs": [],
   "execution_count": 2
  },
  {
   "metadata": {
    "ExecuteTime": {
     "end_time": "2025-06-09T18:14:58.580136Z",
     "start_time": "2025-06-09T18:14:56.293703Z"
    }
   },
   "cell_type": "code",
   "source": [
    "(x_train, y_train), (x_test, y_test) = mnist.load_data()\n",
    "x_train, x_test = x_train/255.0, x_test/255.0\n"
   ],
   "id": "6d2b8f7615cb73a9",
   "outputs": [
    {
     "name": "stdout",
     "output_type": "stream",
     "text": [
      "Downloading data from https://storage.googleapis.com/tensorflow/tf-keras-datasets/mnist.npz\n",
      "\u001B[1m11490434/11490434\u001B[0m \u001B[32m━━━━━━━━━━━━━━━━━━━━\u001B[0m\u001B[37m\u001B[0m \u001B[1m1s\u001B[0m 0us/step\n"
     ]
    }
   ],
   "execution_count": 3
  },
  {
   "metadata": {
    "ExecuteTime": {
     "end_time": "2025-06-09T18:14:58.721078Z",
     "start_time": "2025-06-09T18:14:58.581142Z"
    }
   },
   "cell_type": "code",
   "source": [
    "model = models.Sequential([\n",
    "    layers.Flatten(input_shape=(28,28)),\n",
    "    layers.Dense(128, activation='relu'),\n",
    "    layers.Dense(10, activation='softmax')\n",
    "])"
   ],
   "id": "bbd2702adf8757da",
   "outputs": [
    {
     "name": "stderr",
     "output_type": "stream",
     "text": [
      "D:\\Workspace\\rb\\sample-tracker-api\\venv\\Lib\\site-packages\\keras\\src\\layers\\reshaping\\flatten.py:37: UserWarning: Do not pass an `input_shape`/`input_dim` argument to a layer. When using Sequential models, prefer using an `Input(shape)` object as the first layer in the model instead.\n",
      "  super().__init__(**kwargs)\n"
     ]
    }
   ],
   "execution_count": 4
  },
  {
   "metadata": {
    "ExecuteTime": {
     "end_time": "2025-06-09T18:14:58.738541Z",
     "start_time": "2025-06-09T18:14:58.722086Z"
    }
   },
   "cell_type": "code",
   "source": [
    "model.compile(optimizer='adam',\n",
    "              loss='sparse_categorical_crossentropy',\n",
    "              metrics=['accuracy'])"
   ],
   "id": "bf5d75dff6198d33",
   "outputs": [],
   "execution_count": 5
  },
  {
   "metadata": {
    "ExecuteTime": {
     "end_time": "2025-06-09T18:15:08.674910Z",
     "start_time": "2025-06-09T18:14:58.740551Z"
    }
   },
   "cell_type": "code",
   "source": "model.fit(x_train, y_train, epochs=2, validation_data=(x_test, y_test))",
   "id": "5df575db45bf9e18",
   "outputs": [
    {
     "name": "stdout",
     "output_type": "stream",
     "text": [
      "Epoch 1/2\n",
      "\u001B[1m1875/1875\u001B[0m \u001B[32m━━━━━━━━━━━━━━━━━━━━\u001B[0m\u001B[37m\u001B[0m \u001B[1m6s\u001B[0m 3ms/step - accuracy: 0.8793 - loss: 0.4312 - val_accuracy: 0.9536 - val_loss: 0.1503\n",
      "Epoch 2/2\n",
      "\u001B[1m1875/1875\u001B[0m \u001B[32m━━━━━━━━━━━━━━━━━━━━\u001B[0m\u001B[37m\u001B[0m \u001B[1m4s\u001B[0m 2ms/step - accuracy: 0.9614 - loss: 0.1296 - val_accuracy: 0.9713 - val_loss: 0.0969\n"
     ]
    },
    {
     "data": {
      "text/plain": [
       "<keras.src.callbacks.history.History at 0x1f6701cbf90>"
      ]
     },
     "execution_count": 6,
     "metadata": {},
     "output_type": "execute_result"
    }
   ],
   "execution_count": 6
  },
  {
   "metadata": {
    "ExecuteTime": {
     "end_time": "2025-06-09T18:15:09.167735Z",
     "start_time": "2025-06-09T18:15:08.676920Z"
    }
   },
   "cell_type": "code",
   "source": "test_loss, test_acc = model.evaluate(x_test, y_test)",
   "id": "7638263dff15234e",
   "outputs": [
    {
     "name": "stdout",
     "output_type": "stream",
     "text": [
      "\u001B[1m313/313\u001B[0m \u001B[32m━━━━━━━━━━━━━━━━━━━━\u001B[0m\u001B[37m\u001B[0m \u001B[1m0s\u001B[0m 1ms/step - accuracy: 0.9676 - loss: 0.1106\n"
     ]
    }
   ],
   "execution_count": 7
  },
  {
   "metadata": {
    "ExecuteTime": {
     "end_time": "2025-06-09T18:15:09.175815Z",
     "start_time": "2025-06-09T18:15:09.169745Z"
    }
   },
   "cell_type": "code",
   "source": "print(f\"Test accuracy: {test_acc:.3f}\")\n",
   "id": "initial_id",
   "outputs": [
    {
     "name": "stdout",
     "output_type": "stream",
     "text": [
      "Test accuracy: 0.971\n"
     ]
    }
   ],
   "execution_count": 8
  }
 ],
 "metadata": {
  "kernelspec": {
   "display_name": "Python 3",
   "language": "python",
   "name": "python3"
  },
  "language_info": {
   "codemirror_mode": {
    "name": "ipython",
    "version": 2
   },
   "file_extension": ".py",
   "mimetype": "text/x-python",
   "name": "python",
   "nbconvert_exporter": "python",
   "pygments_lexer": "ipython2",
   "version": "2.7.6"
  }
 },
 "nbformat": 4,
 "nbformat_minor": 5
}
