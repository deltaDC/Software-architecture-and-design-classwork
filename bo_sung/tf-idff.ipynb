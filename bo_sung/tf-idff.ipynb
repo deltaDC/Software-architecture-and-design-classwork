{
 "cells": [
  {
   "cell_type": "code",
   "id": "initial_id",
   "metadata": {
    "collapsed": true,
    "ExecuteTime": {
     "end_time": "2025-06-09T18:21:17.848461Z",
     "start_time": "2025-06-09T18:21:17.840270Z"
    }
   },
   "source": [
    "from sklearn.feature_extraction.text import TfidfVectorizer\n",
    "\n",
    "documents = [\n",
    "    \"I love natural language processing.\",\n",
    "    \"Natural language processing is amazing.\",\n",
    "    \"Language models like BERT and GPT are powerful.\"\n",
    "]\n",
    "\n",
    "vectorizer = TfidfVectorizer()\n",
    "X = vectorizer.fit_transform(documents)\n",
    "\n",
    "print(\"Feature names:\", vectorizer.get_feature_names_out())\n",
    "print(\"TF-IDF matrix:\\n\", X.toarray())\n"
   ],
   "outputs": [
    {
     "name": "stdout",
     "output_type": "stream",
     "text": [
      "Feature names: ['amazing' 'and' 'are' 'bert' 'gpt' 'is' 'language' 'like' 'love' 'models'\n",
      " 'natural' 'powerful' 'processing']\n",
      "TF-IDF matrix:\n",
      " [[0.         0.         0.         0.         0.         0.\n",
      "  0.37311881 0.         0.63174505 0.         0.4804584  0.\n",
      "  0.4804584 ]\n",
      " [0.53409337 0.         0.         0.         0.         0.53409337\n",
      "  0.31544415 0.         0.         0.         0.40619178 0.\n",
      "  0.40619178]\n",
      " [0.         0.36888498 0.36888498 0.36888498 0.36888498 0.\n",
      "  0.21786941 0.36888498 0.         0.36888498 0.         0.36888498\n",
      "  0.        ]]\n"
     ]
    }
   ],
   "execution_count": 2
  }
 ],
 "metadata": {
  "kernelspec": {
   "display_name": "Python 3",
   "language": "python",
   "name": "python3"
  },
  "language_info": {
   "codemirror_mode": {
    "name": "ipython",
    "version": 2
   },
   "file_extension": ".py",
   "mimetype": "text/x-python",
   "name": "python",
   "nbconvert_exporter": "python",
   "pygments_lexer": "ipython2",
   "version": "2.7.6"
  }
 },
 "nbformat": 4,
 "nbformat_minor": 5
}
