{
 "cells": [
  {
   "cell_type": "code",
   "id": "94fe545d3207286",
   "metadata": {
    "collapsed": true,
    "ExecuteTime": {
     "end_time": "2025-06-09T18:18:50.916093Z",
     "start_time": "2025-06-09T18:18:50.665102Z"
    }
   },
   "source": [
    "import gym\n",
    "import numpy as np\n",
    "\n",
    "env = gym.make(\"FrozenLake-v1\", is_slippery=False)\n",
    "Q = np.zeros([env.observation_space.n, env.action_space.n])\n",
    "gamma = 0.95\n",
    "alpha = 0.8\n",
    "episodes = 500\n"
   ],
   "outputs": [],
   "execution_count": 1
  },
  {
   "metadata": {
    "ExecuteTime": {
     "end_time": "2025-06-09T18:18:51.135554Z",
     "start_time": "2025-06-09T18:18:50.916617Z"
    }
   },
   "cell_type": "code",
   "source": [
    "for episode in range(episodes):\n",
    "    state = env.reset()[0]\n",
    "    done = False\n",
    "    while not done:\n",
    "        action = np.argmax(Q[state] + np.random.randn(1, env.action_space.n)*(1./(episode+1)))\n",
    "        next_state, reward, done, truncated, info = env.step(action)\n",
    "        Q[state, action] = Q[state, action] + alpha*(reward + gamma*np.max(Q[next_state]) - Q[state, action])\n",
    "        state = next_state\n"
   ],
   "id": "32fd7c18cc495df3",
   "outputs": [
    {
     "name": "stderr",
     "output_type": "stream",
     "text": [
      "D:\\Workspace\\rb\\sample-tracker-api\\venv\\Lib\\site-packages\\gym\\utils\\passive_env_checker.py:233: DeprecationWarning: `np.bool8` is a deprecated alias for `np.bool_`.  (Deprecated NumPy 1.24)\n",
      "  if not isinstance(terminated, (bool, np.bool8)):\n"
     ]
    }
   ],
   "execution_count": 2
  },
  {
   "metadata": {
    "ExecuteTime": {
     "end_time": "2025-06-09T18:18:51.153033Z",
     "start_time": "2025-06-09T18:18:51.139562Z"
    }
   },
   "cell_type": "code",
   "source": [
    "print(\"Trained Q-table:\")\n",
    "print(Q)\n"
   ],
   "id": "initial_id",
   "outputs": [
    {
     "name": "stdout",
     "output_type": "stream",
     "text": [
      "Trained Q-table:\n",
      "[[0.         0.77378094 0.         0.        ]\n",
      " [0.         0.         0.         0.        ]\n",
      " [0.         0.         0.         0.        ]\n",
      " [0.         0.         0.         0.        ]\n",
      " [0.         0.81450625 0.         0.        ]\n",
      " [0.         0.         0.         0.        ]\n",
      " [0.         0.         0.         0.        ]\n",
      " [0.         0.         0.         0.        ]\n",
      " [0.         0.         0.857375   0.        ]\n",
      " [0.         0.         0.9025     0.        ]\n",
      " [0.         0.95       0.         0.        ]\n",
      " [0.         0.         0.         0.        ]\n",
      " [0.         0.         0.         0.        ]\n",
      " [0.         0.         0.608      0.        ]\n",
      " [0.         0.         1.         0.        ]\n",
      " [0.         0.         0.         0.        ]]\n"
     ]
    }
   ],
   "execution_count": 3
  }
 ],
 "metadata": {
  "kernelspec": {
   "display_name": "Python 3",
   "language": "python",
   "name": "python3"
  },
  "language_info": {
   "codemirror_mode": {
    "name": "ipython",
    "version": 2
   },
   "file_extension": ".py",
   "mimetype": "text/x-python",
   "name": "python",
   "nbconvert_exporter": "python",
   "pygments_lexer": "ipython2",
   "version": "2.7.6"
  }
 },
 "nbformat": 4,
 "nbformat_minor": 5
}
